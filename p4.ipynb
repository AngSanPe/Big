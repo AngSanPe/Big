{
 "cells": [
  {
   "cell_type": "code",
   "execution_count": 50,
   "id": "748d2cc5",
   "metadata": {},
   "outputs": [],
   "source": [
    "import pyspark\n",
    "from pyspark.sql import SparkSession\n",
    "spark=SparkSession.builder.appName('Practica').getOrCreate()\n"
   ]
  },
  {
   "cell_type": "code",
   "execution_count": 51,
   "id": "4ed24aa6",
   "metadata": {},
   "outputs": [],
   "source": [
    "gps=spark.read.options(header=True,inferSchema=True).csv(\"C:\\\\Users\\\\angel\\\\Documents\\\\big\\\\Datos\\\\p3\\\\gps_data.csv\")\n"
   ]
  },
  {
   "cell_type": "code",
   "execution_count": 52,
   "id": "cc60594d",
   "metadata": {},
   "outputs": [],
   "source": [
    "data=spark.read.options(header=True,inferSchema=True).csv(\"C:\\\\Users\\\\angel\\\\Documents\\\\big\\\\Datos\\\\p3\\\\C82E18F7B0E4.csv\")\n"
   ]
  },
  {
   "cell_type": "code",
   "execution_count": 53,
   "id": "5c304a9a",
   "metadata": {},
   "outputs": [
    {
     "name": "stdout",
     "output_type": "stream",
     "text": [
      "root\n",
      " |-- RTC Time (Unix): long (nullable = true)\n",
      " |-- GPS Date Time: string (nullable = true)\n",
      " |-- Latitude: double (nullable = true)\n",
      " |-- Longitude: double (nullable = true)\n",
      " |-- Altitude: double (nullable = true)\n",
      " |-- Speed: double (nullable = true)\n",
      " |-- Course: double (nullable = true)\n",
      " |-- HDOP: double (nullable = true)\n",
      " |-- Fix Status: integer (nullable = true)\n",
      " |-- Satellites: integer (nullable = true)\n",
      "\n"
     ]
    }
   ],
   "source": [
    "gps.printSchema()"
   ]
  },
  {
   "cell_type": "code",
   "execution_count": 54,
   "id": "8a203531",
   "metadata": {},
   "outputs": [],
   "source": [
    "gps=gps.select(\"RTC Time (Unix)\",\"Latitude\",\"Longitude\",\"Altitude\",'Speed',\"Course\",\"Satellites\")"
   ]
  },
  {
   "cell_type": "code",
   "execution_count": 55,
   "id": "fee53b42",
   "metadata": {},
   "outputs": [
    {
     "name": "stdout",
     "output_type": "stream",
     "text": [
      "+---------------+--------+---------+--------+-----+------+----------+\n",
      "|RTC Time (Unix)|Latitude|Longitude|Altitude|Speed|Course|Satellites|\n",
      "+---------------+--------+---------+--------+-----+------+----------+\n",
      "|           3604|     0.0|      0.0|     0.0| 2.14|  1.94|1074284042|\n",
      "|           3608|     0.0|      0.0|     0.0| 2.14|  1.94|1074284042|\n",
      "|           3612|     0.0|      0.0|     0.0| 2.14|  1.94|1074284042|\n",
      "|           3616|     0.0|      0.0|     0.0| 2.14|  1.94|1074284042|\n",
      "|           3620|     0.0|      0.0|     0.0| 2.14|  1.94|1074284042|\n",
      "|           3651|     0.0|      0.0|     0.0| 2.14|  1.94|1074284042|\n",
      "|           3657|     0.0|      0.0|     0.0| 2.14|  1.94|1074284042|\n",
      "|           3661|     0.0|      0.0|     0.0| 2.14|  1.94|1074284042|\n",
      "|           3668|     0.0|      0.0|     0.0| 2.14|  1.94|1074284042|\n",
      "|           3675|     0.0|      0.0|     0.0| 2.14|  1.94|1074284042|\n",
      "|           3679|     0.0|      0.0|     0.0| 2.14|  1.94|1074284042|\n",
      "|           3683|     0.0|      0.0|     0.0| 2.14|  1.94|1074284042|\n",
      "|           3687|     0.0|      0.0|     0.0| 2.14|  1.94|1074284042|\n",
      "|           3694|     0.0|      0.0|     0.0| 2.14|  1.94|1074284042|\n",
      "|           3701|     0.0|      0.0|     0.0| 2.14|  1.94|1074284042|\n",
      "|           3705|     0.0|      0.0|     0.0| 2.14|  1.94|1074284042|\n",
      "|           3709|     0.0|      0.0|     0.0| 2.14|  1.94|1074284042|\n",
      "|           3713|     0.0|      0.0|     0.0| 2.14|  1.94|1074284042|\n",
      "|           3720|     0.0|      0.0|     0.0| 2.14|  1.94|1074284042|\n",
      "|           3727|     0.0|      0.0|     0.0| 2.14|  1.94|1074284042|\n",
      "+---------------+--------+---------+--------+-----+------+----------+\n",
      "only showing top 20 rows\n",
      "\n"
     ]
    }
   ],
   "source": [
    "gps.show()"
   ]
  },
  {
   "cell_type": "code",
   "execution_count": 56,
   "id": "8260ae4c",
   "metadata": {},
   "outputs": [
    {
     "name": "stdout",
     "output_type": "stream",
     "text": [
      "root\n",
      " |-- RTC Time (Unix): long (nullable = true)\n",
      " |-- MAC Address: string (nullable = true)\n",
      " |-- Date UNIX Pot: integer (nullable = true)\n",
      " |-- Mode: integer (nullable = true)\n",
      " |-- (BMP280 Temperature: string (nullable = true)\n",
      " |-- Pressure: double (nullable = true)\n",
      " |-- Approx altitude: string (nullable = true)\n",
      " |-- AHT20 Temperature: double (nullable = true)\n",
      " |-- Humidity: double (nullable = true)\n",
      " |-- PM  1.0: double (nullable = true)\n",
      " |-- PM  2.5: double (nullable = true)\n",
      " |-- PM  4.0: double (nullable = true)\n",
      " |-- PM 10: double (nullable = true)\n",
      " |-- NC  0.5: string (nullable = true)\n",
      " |-- NC  1.0: string (nullable = true)\n",
      " |-- NC  2.5: string (nullable = true)\n",
      " |-- NC  4.0: string (nullable = true)\n",
      " |-- NC 10.0): string (nullable = true)\n",
      "\n"
     ]
    }
   ],
   "source": [
    "data.printSchema()"
   ]
  },
  {
   "cell_type": "code",
   "execution_count": 57,
   "id": "c9c14af2",
   "metadata": {},
   "outputs": [],
   "source": [
    "data = data.withColumnRenamed(\"PM  2.5\", \"PM_2_5\")"
   ]
  },
  {
   "cell_type": "code",
   "execution_count": 58,
   "id": "fd7db53a",
   "metadata": {},
   "outputs": [],
   "source": [
    "data = data.withColumnRenamed(\"RTC Time (Unix)\", \"time\")"
   ]
  },
  {
   "cell_type": "code",
   "execution_count": 59,
   "id": "e55f6d8e",
   "metadata": {},
   "outputs": [],
   "source": [
    "data=data.select(\"time\",\"(BMP280 Temperature\",\"Pressure\",\"Humidity\",'PM_2_5',\"PM 10\")"
   ]
  },
  {
   "cell_type": "code",
   "execution_count": 60,
   "id": "6180b716",
   "metadata": {},
   "outputs": [
    {
     "name": "stdout",
     "output_type": "stream",
     "text": [
      "+----+-------------------+--------+--------+------+-----+\n",
      "|time|(BMP280 Temperature|Pressure|Humidity|PM_2_5|PM 10|\n",
      "+----+-------------------+--------+--------+------+-----+\n",
      "|3656|               NULL|    NULL|    NULL|  NULL| NULL|\n",
      "|3656|               NULL|    NULL|    NULL|  NULL| NULL|\n",
      "|3657|               NULL|    NULL|    NULL|  NULL| NULL|\n",
      "|3657|               NULL|    NULL|    NULL|  NULL| NULL|\n",
      "|3657|               NULL|    NULL|    NULL|  NULL| NULL|\n",
      "|3657|               NULL|    NULL|    NULL|  NULL| NULL|\n",
      "|3657|               NULL|    NULL|    NULL|  NULL| NULL|\n",
      "|3658|               NULL|    NULL|    NULL|  NULL| NULL|\n",
      "|3658|               NULL|    NULL|    NULL|  NULL| NULL|\n",
      "|3658|               NULL|    NULL|    NULL|  NULL| NULL|\n",
      "|3615|               NULL|    NULL|    NULL|  NULL| NULL|\n",
      "|3616|               NULL|    NULL|    NULL|  NULL| NULL|\n",
      "|3616|               NULL|    NULL|    NULL|  NULL| NULL|\n",
      "|3616|               NULL|    NULL|    NULL|  NULL| NULL|\n",
      "|3616|               NULL|    NULL|    NULL|  NULL| NULL|\n",
      "|3616|               NULL|    NULL|    NULL|  NULL| NULL|\n",
      "|3616|             (24.22|78114.72|     0.0|  5.49|10.46|\n",
      "|3616|             (24.22|78114.72|     0.0|  5.49|10.46|\n",
      "|3617|             (24.22|78114.72|     0.0|  5.49|10.46|\n",
      "|3617|             (24.22|78114.72|     0.0|  5.49|10.46|\n",
      "+----+-------------------+--------+--------+------+-----+\n",
      "only showing top 20 rows\n",
      "\n"
     ]
    }
   ],
   "source": [
    "data.show()"
   ]
  },
  {
   "cell_type": "code",
   "execution_count": 61,
   "id": "42fb8c98",
   "metadata": {},
   "outputs": [],
   "source": [
    "from pyspark.sql.functions import *"
   ]
  },
  {
   "cell_type": "code",
   "execution_count": 62,
   "id": "65722054",
   "metadata": {},
   "outputs": [],
   "source": [
    "data = data.withColumn(\"Tempeture\", regexp_replace(col(\"(BMP280 Temperature\"), \"[()]\", \"\").cast(\"double\"))"
   ]
  },
  {
   "cell_type": "code",
   "execution_count": null,
   "id": "074cdf12",
   "metadata": {},
   "outputs": [],
   "source": []
  },
  {
   "cell_type": "code",
   "execution_count": 63,
   "id": "dad257d7",
   "metadata": {},
   "outputs": [
    {
     "name": "stdout",
     "output_type": "stream",
     "text": [
      "+-------------------+-------------------+--------+--------+------+-----+---------+\n",
      "|               time|(BMP280 Temperature|Pressure|Humidity|PM_2_5|PM 10|Tempeture|\n",
      "+-------------------+-------------------+--------+--------+------+-----+---------+\n",
      "|1969-12-31 19:00:56|               NULL|    NULL|    NULL|  NULL| NULL|     NULL|\n",
      "|1969-12-31 19:00:56|               NULL|    NULL|    NULL|  NULL| NULL|     NULL|\n",
      "|1969-12-31 19:00:57|               NULL|    NULL|    NULL|  NULL| NULL|     NULL|\n",
      "|1969-12-31 19:00:57|               NULL|    NULL|    NULL|  NULL| NULL|     NULL|\n",
      "|1969-12-31 19:00:57|               NULL|    NULL|    NULL|  NULL| NULL|     NULL|\n",
      "|1969-12-31 19:00:57|               NULL|    NULL|    NULL|  NULL| NULL|     NULL|\n",
      "|1969-12-31 19:00:57|               NULL|    NULL|    NULL|  NULL| NULL|     NULL|\n",
      "|1969-12-31 19:00:58|               NULL|    NULL|    NULL|  NULL| NULL|     NULL|\n",
      "|1969-12-31 19:00:58|               NULL|    NULL|    NULL|  NULL| NULL|     NULL|\n",
      "|1969-12-31 19:00:58|               NULL|    NULL|    NULL|  NULL| NULL|     NULL|\n",
      "|1969-12-31 19:00:15|               NULL|    NULL|    NULL|  NULL| NULL|     NULL|\n",
      "|1969-12-31 19:00:16|               NULL|    NULL|    NULL|  NULL| NULL|     NULL|\n",
      "|1969-12-31 19:00:16|               NULL|    NULL|    NULL|  NULL| NULL|     NULL|\n",
      "|1969-12-31 19:00:16|               NULL|    NULL|    NULL|  NULL| NULL|     NULL|\n",
      "|1969-12-31 19:00:16|               NULL|    NULL|    NULL|  NULL| NULL|     NULL|\n",
      "|1969-12-31 19:00:16|               NULL|    NULL|    NULL|  NULL| NULL|     NULL|\n",
      "|1969-12-31 19:00:16|             (24.22|78114.72|     0.0|  5.49|10.46|    24.22|\n",
      "|1969-12-31 19:00:16|             (24.22|78114.72|     0.0|  5.49|10.46|    24.22|\n",
      "|1969-12-31 19:00:17|             (24.22|78114.72|     0.0|  5.49|10.46|    24.22|\n",
      "|1969-12-31 19:00:17|             (24.22|78114.72|     0.0|  5.49|10.46|    24.22|\n",
      "+-------------------+-------------------+--------+--------+------+-----+---------+\n",
      "only showing top 20 rows\n",
      "\n"
     ]
    }
   ],
   "source": [
    "# Convertir la columna 'RTC Time' (que está en formato Unix) a una fecha legible\n",
    "data = data.withColumn(\"time\", from_unixtime(\"time\", \"yyyy-MM-dd HH:mm:ss\"))\n",
    "\n",
    "# Mostrar el resultado\n",
    "data.show()"
   ]
  },
  {
   "cell_type": "code",
   "execution_count": 64,
   "id": "c3b7afa4",
   "metadata": {},
   "outputs": [
    {
     "name": "stdout",
     "output_type": "stream",
     "text": [
      "+-------------------+--------+---------+--------+-----+------+----------+\n",
      "|    RTC Time (Unix)|Latitude|Longitude|Altitude|Speed|Course|Satellites|\n",
      "+-------------------+--------+---------+--------+-----+------+----------+\n",
      "|1969-12-31 19:00:04|     0.0|      0.0|     0.0| 2.14|  1.94|1074284042|\n",
      "|1969-12-31 19:00:08|     0.0|      0.0|     0.0| 2.14|  1.94|1074284042|\n",
      "|1969-12-31 19:00:12|     0.0|      0.0|     0.0| 2.14|  1.94|1074284042|\n",
      "|1969-12-31 19:00:16|     0.0|      0.0|     0.0| 2.14|  1.94|1074284042|\n",
      "|1969-12-31 19:00:20|     0.0|      0.0|     0.0| 2.14|  1.94|1074284042|\n",
      "|1969-12-31 19:00:51|     0.0|      0.0|     0.0| 2.14|  1.94|1074284042|\n",
      "|1969-12-31 19:00:57|     0.0|      0.0|     0.0| 2.14|  1.94|1074284042|\n",
      "|1969-12-31 19:01:01|     0.0|      0.0|     0.0| 2.14|  1.94|1074284042|\n",
      "|1969-12-31 19:01:08|     0.0|      0.0|     0.0| 2.14|  1.94|1074284042|\n",
      "|1969-12-31 19:01:15|     0.0|      0.0|     0.0| 2.14|  1.94|1074284042|\n",
      "|1969-12-31 19:01:19|     0.0|      0.0|     0.0| 2.14|  1.94|1074284042|\n",
      "|1969-12-31 19:01:23|     0.0|      0.0|     0.0| 2.14|  1.94|1074284042|\n",
      "|1969-12-31 19:01:27|     0.0|      0.0|     0.0| 2.14|  1.94|1074284042|\n",
      "|1969-12-31 19:01:34|     0.0|      0.0|     0.0| 2.14|  1.94|1074284042|\n",
      "|1969-12-31 19:01:41|     0.0|      0.0|     0.0| 2.14|  1.94|1074284042|\n",
      "|1969-12-31 19:01:45|     0.0|      0.0|     0.0| 2.14|  1.94|1074284042|\n",
      "|1969-12-31 19:01:49|     0.0|      0.0|     0.0| 2.14|  1.94|1074284042|\n",
      "|1969-12-31 19:01:53|     0.0|      0.0|     0.0| 2.14|  1.94|1074284042|\n",
      "|1969-12-31 19:02:00|     0.0|      0.0|     0.0| 2.14|  1.94|1074284042|\n",
      "|1969-12-31 19:02:07|     0.0|      0.0|     0.0| 2.14|  1.94|1074284042|\n",
      "+-------------------+--------+---------+--------+-----+------+----------+\n",
      "only showing top 20 rows\n",
      "\n"
     ]
    }
   ],
   "source": [
    "# Convertir la columna 'RTC Time' (que está en formato Unix) a una fecha legible\n",
    "gps = gps.withColumn(\"RTC Time (Unix)\", from_unixtime(\"RTC Time (Unix)\", \"yyyy-MM-dd HH:mm:ss\"))\n",
    "\n",
    "# Mostrar el resultado\n",
    "gps.show()"
   ]
  },
  {
   "cell_type": "code",
   "execution_count": 65,
   "id": "ca7b4322",
   "metadata": {},
   "outputs": [],
   "source": [
    "df_unido = data.join(gps, gps[\"RTC Time (Unix)\"] == data[\"time\"], \"inner\")"
   ]
  },
  {
   "cell_type": "code",
   "execution_count": 66,
   "id": "50bfc68a",
   "metadata": {},
   "outputs": [
    {
     "name": "stdout",
     "output_type": "stream",
     "text": [
      "+-------------------+-------------------+--------+--------+------+-----+---------+-------------------+--------+---------+--------+-----+------+----------+\n",
      "|               time|(BMP280 Temperature|Pressure|Humidity|PM_2_5|PM 10|Tempeture|    RTC Time (Unix)|Latitude|Longitude|Altitude|Speed|Course|Satellites|\n",
      "+-------------------+-------------------+--------+--------+------+-----+---------+-------------------+--------+---------+--------+-----+------+----------+\n",
      "|1969-12-31 19:00:16|             (23.47|77195.46|     0.0|  3.52| 3.52|    23.47|1969-12-31 19:00:16|     0.0|      0.0|     0.0| 2.14|  1.94|1074284042|\n",
      "|1969-12-31 19:00:16|             (24.22|78114.72|     0.0|  5.49|10.46|    24.22|1969-12-31 19:00:16|     0.0|      0.0|     0.0| 2.14|  1.94|1074284042|\n",
      "|1969-12-31 19:00:16|             (24.22|78114.72|     0.0|  5.49|10.46|    24.22|1969-12-31 19:00:16|     0.0|      0.0|     0.0| 2.14|  1.94|1074284042|\n",
      "|1969-12-31 19:00:16|               NULL|    NULL|    NULL|  NULL| NULL|     NULL|1969-12-31 19:00:16|     0.0|      0.0|     0.0| 2.14|  1.94|1074284042|\n",
      "|1969-12-31 19:00:16|               NULL|    NULL|    NULL|  NULL| NULL|     NULL|1969-12-31 19:00:16|     0.0|      0.0|     0.0| 2.14|  1.94|1074284042|\n",
      "|1969-12-31 19:00:16|               NULL|    NULL|    NULL|  NULL| NULL|     NULL|1969-12-31 19:00:16|     0.0|      0.0|     0.0| 2.14|  1.94|1074284042|\n",
      "|1969-12-31 19:00:16|               NULL|    NULL|    NULL|  NULL| NULL|     NULL|1969-12-31 19:00:16|     0.0|      0.0|     0.0| 2.14|  1.94|1074284042|\n",
      "|1969-12-31 19:00:16|               NULL|    NULL|    NULL|  NULL| NULL|     NULL|1969-12-31 19:00:16|     0.0|      0.0|     0.0| 2.14|  1.94|1074284042|\n",
      "|1969-12-31 19:00:20|             (23.55|77195.13|     0.0|  3.58| 3.58|    23.55|1969-12-31 19:00:20|     0.0|      0.0|     0.0| 2.14|  1.94|1074284042|\n",
      "|1969-12-31 19:00:20|             (24.20|78114.09|     0.0|  2.49| 2.49|     24.2|1969-12-31 19:00:20|     0.0|      0.0|     0.0| 2.14|  1.94|1074284042|\n",
      "|1969-12-31 19:00:57|               NULL|    NULL|    NULL|  NULL| NULL|     NULL|1969-12-31 19:00:57|     0.0|      0.0|     0.0| 2.14|  1.94|1074284042|\n",
      "|1969-12-31 19:00:57|               NULL|    NULL|    NULL|  NULL| NULL|     NULL|1969-12-31 19:00:57|     0.0|      0.0|     0.0| 2.14|  1.94|1074284042|\n",
      "|1969-12-31 19:00:57|               NULL|    NULL|    NULL|  NULL| NULL|     NULL|1969-12-31 19:00:57|     0.0|      0.0|     0.0| 2.14|  1.94|1074284042|\n",
      "|1969-12-31 19:00:57|               NULL|    NULL|    NULL|  NULL| NULL|     NULL|1969-12-31 19:00:57|     0.0|      0.0|     0.0| 2.14|  1.94|1074284042|\n",
      "|1969-12-31 19:00:57|               NULL|    NULL|    NULL|  NULL| NULL|     NULL|1969-12-31 19:00:57|     0.0|      0.0|     0.0| 2.14|  1.94|1074284042|\n",
      "|1969-12-31 19:01:01|               NULL|    NULL|    NULL|  NULL| NULL|     NULL|1969-12-31 19:01:01|     0.0|      0.0|     0.0| 2.14|  1.94|1074284042|\n",
      "|1969-12-31 19:01:01|               NULL|    NULL|    NULL|  NULL| NULL|     NULL|1969-12-31 19:01:01|     0.0|      0.0|     0.0| 2.14|  1.94|1074284042|\n",
      "|1969-12-31 19:01:01|               NULL|    NULL|    NULL|  NULL| NULL|     NULL|1969-12-31 19:01:01|     0.0|      0.0|     0.0| 2.14|  1.94|1074284042|\n",
      "|1969-12-31 19:01:01|             (23.40|77196.12|     0.0|  3.24| 3.24|     23.4|1969-12-31 19:01:01|     0.0|      0.0|     0.0| 2.14|  1.94|1074284042|\n",
      "|1969-12-31 19:01:08|             (23.29|84034.44|   62.53|  8.09| 8.09|    23.29|1969-12-31 19:01:08|     0.0|      0.0|     0.0| 2.14|  1.94|1074284042|\n",
      "+-------------------+-------------------+--------+--------+------+-----+---------+-------------------+--------+---------+--------+-----+------+----------+\n",
      "only showing top 20 rows\n",
      "\n"
     ]
    }
   ],
   "source": [
    "df_unido.show()"
   ]
  },
  {
   "cell_type": "code",
   "execution_count": 67,
   "id": "35b78519",
   "metadata": {},
   "outputs": [
    {
     "name": "stdout",
     "output_type": "stream",
     "text": [
      "-RECORD 0-------------------------------\n",
      " summary         | count                \n",
      " RTC Time (Unix) | 235                  \n",
      " Tempeture       | 187                  \n",
      " Pressure        | 187                  \n",
      " Humidity        | 187                  \n",
      " PM_2_5          | 187                  \n",
      " PM 10           | 187                  \n",
      " Latitude        | 235                  \n",
      " Longitude       | 235                  \n",
      " Altitude        | 235                  \n",
      " Speed           | 235                  \n",
      " Course          | 235                  \n",
      " Satellites      | 235                  \n",
      "-RECORD 1-------------------------------\n",
      " summary         | mean                 \n",
      " RTC Time (Unix) | NULL                 \n",
      " Tempeture       | 23.88342245989305    \n",
      " Pressure        | 78208.24764705889    \n",
      " Humidity        | 3.763957219251336    \n",
      " PM_2_5          | 16.401016042780746   \n",
      " PM 10           | 17.325240641711233   \n",
      " Latitude        | 1.291960295175507E12 \n",
      " Longitude       | 13.786882029787195   \n",
      " Altitude        | 1147.0355319148932   \n",
      " Speed           | 2.13999999999999     \n",
      " Course          | 1.939999999999998    \n",
      " Satellites      | 1.074284042E9        \n",
      "-RECORD 2-------------------------------\n",
      " summary         | stddev               \n",
      " RTC Time (Unix) | NULL                 \n",
      " Tempeture       | 19.937414173425765   \n",
      " Pressure        | 16910.424456893372   \n",
      " Humidity        | 15.098624068846586   \n",
      " PM_2_5          | 8.643579352089635    \n",
      " PM 10           | 9.017984320524242    \n",
      " Latitude        | 4.95839223815991E12  \n",
      " Longitude       | 392.90131126871427   \n",
      " Altitude        | 1124.034688506095    \n",
      " Speed           | 0.0                  \n",
      " Course          | 0.0                  \n",
      " Satellites      | 0.0                  \n",
      "-RECORD 3-------------------------------\n",
      " summary         | min                  \n",
      " RTC Time (Unix) | 1969-12-31 19:00:16  \n",
      " Tempeture       | -131.36              \n",
      " Pressure        | -6229.94             \n",
      " Humidity        | 0.0                  \n",
      " PM_2_5          | 2.49                 \n",
      " PM 10           | 2.49                 \n",
      " Latitude        | -99.146978           \n",
      " Longitude       | -99.146994           \n",
      " Altitude        | -99.15               \n",
      " Speed           | 2.14                 \n",
      " Course          | 1.94                 \n",
      " Satellites      | 1074284042           \n",
      "-RECORD 4-------------------------------\n",
      " summary         | max                  \n",
      " RTC Time (Unix) | 2106-02-05 18:28:15  \n",
      " Tempeture       | 181.92               \n",
      " Pressure        | 209470.56            \n",
      " Humidity        | 64.82                \n",
      " PM_2_5          | 28.51                \n",
      " PM 10           | 30.81                \n",
      " Latitude        | 2.024071123512E13    \n",
      " Longitude       | 2254.2               \n",
      " Altitude        | 2260.6               \n",
      " Speed           | 2.14                 \n",
      " Course          | 1.94                 \n",
      " Satellites      | 1074284042           \n",
      "\n"
     ]
    }
   ],
   "source": [
    "df_unido.select(\"RTC Time (Unix)\",\"Tempeture\",\"Pressure\",\"Humidity\",'PM_2_5',\"PM 10\",\"Latitude\",\"Longitude\",\"Altitude\",'Speed',\"Course\",\"Satellites\").describe().show(truncate=False, vertical=True)\n",
    " "
   ]
  },
  {
   "cell_type": "code",
   "execution_count": 68,
   "id": "bf184517",
   "metadata": {},
   "outputs": [
    {
     "name": "stdout",
     "output_type": "stream",
     "text": [
      "Total de filas: 235\n"
     ]
    }
   ],
   "source": [
    "total_filas = df_unido.count() \n",
    "print(f\"Total de filas: {total_filas}\")"
   ]
  },
  {
   "cell_type": "code",
   "execution_count": 69,
   "id": "87caeb11",
   "metadata": {},
   "outputs": [
    {
     "name": "stdout",
     "output_type": "stream",
     "text": [
      "-RECORD 0----------------------------------\n",
      " time                | 1969-12-31 19:01:04 \n",
      " (BMP280 Temperature | (181.92             \n",
      " Pressure            | 209470.56           \n",
      " Humidity            | 0.0                 \n",
      " PM_2_5              | 8.98                \n",
      " PM 10               | 10.0                \n",
      " Tempeture           | 181.92              \n",
      " RTC Time (Unix)     | 1969-12-31 19:01:04 \n",
      " Latitude            | 19.503932           \n",
      " Longitude           | -99.146983          \n",
      " Altitude            | 2239.1              \n",
      " Speed               | 2.14                \n",
      " Course              | 1.94                \n",
      " Satellites          | 1074284042          \n",
      "-RECORD 1----------------------------------\n",
      " time                | 2024-09-05 03:30:39 \n",
      " (BMP280 Temperature | (21.51              \n",
      " Pressure            | 78435.58            \n",
      " Humidity            | 0.0                 \n",
      " PM_2_5              | 28.51               \n",
      " PM 10               | 30.81               \n",
      " Tempeture           | 21.51               \n",
      " RTC Time (Unix)     | 2024-09-05 03:30:39 \n",
      " Latitude            | 19.511336           \n",
      " Longitude           | -99.126433          \n",
      " Altitude            | 2242.1              \n",
      " Speed               | 2.14                \n",
      " Course              | 1.94                \n",
      " Satellites          | 1074284042          \n",
      "\n"
     ]
    }
   ],
   "source": [
    "# Filtrar los valores atípicos con base en\n",
    "percentiles_t = df_unido.approxQuantile(\"Tempeture\", [0.01, 0.99], 0)\n",
    "percentiles_h = df_unido.approxQuantile(\"Humidity\", [0.01, 0.99], 0)\n",
    "percentiles_2_5 = df_unido.approxQuantile(\"PM_2_5\", [0.01, 0.99], 0)\n",
    "percentiles_10 = df_unido.approxQuantile(\"PM 10\", [0.01, 0.99], 0)\n",
    "\n",
    "val_min_T, val_max_T = percentiles_t[0], percentiles_t[1] \n",
    "val_min_h, val_max_h = percentiles_h[0], percentiles_h[1] \n",
    "val_min_2, val_max_2 = percentiles_2_5[0], percentiles_2_5[1] \n",
    "val_min_10, val_max_10 = percentiles_10[0], percentiles_10[1] \n",
    "\n",
    "# Filtrar valores atípicos\n",
    "valores_atipicos = df_unido.filter(\n",
    "    (df_unido[\"Tempeture\"] < val_min_T) | (df_unido[\"Tempeture\"] > val_max_T) |\n",
    "    (df_unido[\"Humidity\"] < val_min_h) | (df_unido[\"Humidity\"] > val_max_h) |\n",
    "    (df_unido[\"PM_2_5\"] < val_min_2) | (df_unido[\"PM_2_5\"] > val_max_2) |\n",
    "    (df_unido[\"PM 10\"] < val_min_10) | (df_unido[\"PM 10\"] > val_max_10) \n",
    ")\n",
    "\n",
    "# Mostrar valores atípicos\n",
    "valores_atipicos.show(vertical=True)"
   ]
  },
  {
   "cell_type": "code",
   "execution_count": 70,
   "id": "8b896679",
   "metadata": {},
   "outputs": [
    {
     "data": {
      "text/plain": [
       "1978"
      ]
     },
     "execution_count": 70,
     "metadata": {},
     "output_type": "execute_result"
    }
   ],
   "source": [
    "df_cubo1 = df_unido.cube(\"time\", \"Latitude\", \"Longitude\", \"Speed\").agg(\n",
    "   avg(\"PM_2_5\").alias(\"Promedio_PM_2.5\"),\n",
    "   avg(\"PM 10\").alias(\"Promedio_PM_10\"),\n",
    "   avg(\"Tempeture\").alias(\"Promedio_Temperatura\"),\n",
    "   avg(\"Humidity\").alias(\"Promedio_Humedad\"),\n",
    "   count(\"*\").alias(\"Frecuencia\")\n",
    ")\n",
    "# Mostrar los primeros resultados del cubo\n",
    "df_cubo1.count()\n",
    "\n"
   ]
  },
  {
   "cell_type": "code",
   "execution_count": 71,
   "id": "80dc90d7",
   "metadata": {},
   "outputs": [
    {
     "data": {
      "text/plain": [
       "163"
      ]
     },
     "execution_count": 71,
     "metadata": {},
     "output_type": "execute_result"
    }
   ],
   "source": [
    "df_cubo2 = df_unido.cube(\"time\").agg(\n",
    "   avg(\"PM_2_5\").alias(\"Promedio_PM_2.5\"),\n",
    "   avg(\"PM 10\").alias(\"Promedio_PM_10\"),\n",
    "   avg(\"Tempeture\").alias(\"Promedio_Temperatura\"),\n",
    "   avg(\"Humidity\").alias(\"Promedio_Humedad\"),\n",
    "   count(\"*\").alias(\"Frecuencia\")\n",
    ")\n",
    "# Mostrar los primeros resultados del cubo\n",
    "df_cubo2.count()"
   ]
  },
  {
   "cell_type": "code",
   "execution_count": 72,
   "id": "98bf13e1",
   "metadata": {},
   "outputs": [],
   "source": [
    "import matplotlib.pyplot as plt\n",
    "import pandas as pd"
   ]
  },
  {
   "cell_type": "code",
   "execution_count": 73,
   "id": "86a8dd0a",
   "metadata": {},
   "outputs": [],
   "source": [
    "df_cubo_sorted = df_cubo2.orderBy(desc(\"time\"))\n",
    "pdf_cubo = df_cubo_sorted.toPandas() "
   ]
  },
  {
   "cell_type": "code",
   "execution_count": 74,
   "id": "dfd54bb9",
   "metadata": {},
   "outputs": [
    {
     "data": {
      "text/html": [
       "<div>\n",
       "<style scoped>\n",
       "    .dataframe tbody tr th:only-of-type {\n",
       "        vertical-align: middle;\n",
       "    }\n",
       "\n",
       "    .dataframe tbody tr th {\n",
       "        vertical-align: top;\n",
       "    }\n",
       "\n",
       "    .dataframe thead th {\n",
       "        text-align: right;\n",
       "    }\n",
       "</style>\n",
       "<table border=\"1\" class=\"dataframe\">\n",
       "  <thead>\n",
       "    <tr style=\"text-align: right;\">\n",
       "      <th></th>\n",
       "      <th>time</th>\n",
       "      <th>Promedio_PM_2.5</th>\n",
       "      <th>Promedio_PM_10</th>\n",
       "      <th>Promedio_Temperatura</th>\n",
       "      <th>Promedio_Humedad</th>\n",
       "      <th>Frecuencia</th>\n",
       "    </tr>\n",
       "  </thead>\n",
       "  <tbody>\n",
       "    <tr>\n",
       "      <th>0</th>\n",
       "      <td>2106-02-05 18:28:15</td>\n",
       "      <td>22.120000</td>\n",
       "      <td>23.000000</td>\n",
       "      <td>25.770000</td>\n",
       "      <td>0.000000</td>\n",
       "      <td>4</td>\n",
       "    </tr>\n",
       "    <tr>\n",
       "      <th>1</th>\n",
       "      <td>2024-09-05 03:44:17</td>\n",
       "      <td>26.100000</td>\n",
       "      <td>27.000000</td>\n",
       "      <td>27.490000</td>\n",
       "      <td>0.000000</td>\n",
       "      <td>1</td>\n",
       "    </tr>\n",
       "    <tr>\n",
       "      <th>2</th>\n",
       "      <td>2024-09-05 03:44:10</td>\n",
       "      <td>26.060000</td>\n",
       "      <td>27.000000</td>\n",
       "      <td>27.460000</td>\n",
       "      <td>0.000000</td>\n",
       "      <td>1</td>\n",
       "    </tr>\n",
       "    <tr>\n",
       "      <th>3</th>\n",
       "      <td>2024-09-05 03:43:56</td>\n",
       "      <td>24.150000</td>\n",
       "      <td>25.000000</td>\n",
       "      <td>27.370000</td>\n",
       "      <td>0.000000</td>\n",
       "      <td>1</td>\n",
       "    </tr>\n",
       "    <tr>\n",
       "      <th>4</th>\n",
       "      <td>2024-09-05 03:43:45</td>\n",
       "      <td>22.970000</td>\n",
       "      <td>23.000000</td>\n",
       "      <td>27.340000</td>\n",
       "      <td>0.000000</td>\n",
       "      <td>1</td>\n",
       "    </tr>\n",
       "    <tr>\n",
       "      <th>...</th>\n",
       "      <td>...</td>\n",
       "      <td>...</td>\n",
       "      <td>...</td>\n",
       "      <td>...</td>\n",
       "      <td>...</td>\n",
       "      <td>...</td>\n",
       "    </tr>\n",
       "    <tr>\n",
       "      <th>158</th>\n",
       "      <td>1969-12-31 19:00:30</td>\n",
       "      <td>2.520000</td>\n",
       "      <td>2.520000</td>\n",
       "      <td>24.160000</td>\n",
       "      <td>0.000000</td>\n",
       "      <td>1</td>\n",
       "    </tr>\n",
       "    <tr>\n",
       "      <th>159</th>\n",
       "      <td>1969-12-31 19:00:27</td>\n",
       "      <td>2.580000</td>\n",
       "      <td>2.580000</td>\n",
       "      <td>24.170000</td>\n",
       "      <td>0.000000</td>\n",
       "      <td>1</td>\n",
       "    </tr>\n",
       "    <tr>\n",
       "      <th>160</th>\n",
       "      <td>1969-12-31 19:00:20</td>\n",
       "      <td>3.035000</td>\n",
       "      <td>3.035000</td>\n",
       "      <td>23.875000</td>\n",
       "      <td>0.000000</td>\n",
       "      <td>8</td>\n",
       "    </tr>\n",
       "    <tr>\n",
       "      <th>161</th>\n",
       "      <td>1969-12-31 19:00:16</td>\n",
       "      <td>4.833333</td>\n",
       "      <td>8.146667</td>\n",
       "      <td>23.970000</td>\n",
       "      <td>0.000000</td>\n",
       "      <td>32</td>\n",
       "    </tr>\n",
       "    <tr>\n",
       "      <th>162</th>\n",
       "      <td>None</td>\n",
       "      <td>16.401016</td>\n",
       "      <td>17.325241</td>\n",
       "      <td>23.883422</td>\n",
       "      <td>3.763957</td>\n",
       "      <td>235</td>\n",
       "    </tr>\n",
       "  </tbody>\n",
       "</table>\n",
       "<p>163 rows × 6 columns</p>\n",
       "</div>"
      ],
      "text/plain": [
       "                    time  Promedio_PM_2.5  Promedio_PM_10  \\\n",
       "0    2106-02-05 18:28:15        22.120000       23.000000   \n",
       "1    2024-09-05 03:44:17        26.100000       27.000000   \n",
       "2    2024-09-05 03:44:10        26.060000       27.000000   \n",
       "3    2024-09-05 03:43:56        24.150000       25.000000   \n",
       "4    2024-09-05 03:43:45        22.970000       23.000000   \n",
       "..                   ...              ...             ...   \n",
       "158  1969-12-31 19:00:30         2.520000        2.520000   \n",
       "159  1969-12-31 19:00:27         2.580000        2.580000   \n",
       "160  1969-12-31 19:00:20         3.035000        3.035000   \n",
       "161  1969-12-31 19:00:16         4.833333        8.146667   \n",
       "162                 None        16.401016       17.325241   \n",
       "\n",
       "     Promedio_Temperatura  Promedio_Humedad  Frecuencia  \n",
       "0               25.770000          0.000000           4  \n",
       "1               27.490000          0.000000           1  \n",
       "2               27.460000          0.000000           1  \n",
       "3               27.370000          0.000000           1  \n",
       "4               27.340000          0.000000           1  \n",
       "..                    ...               ...         ...  \n",
       "158             24.160000          0.000000           1  \n",
       "159             24.170000          0.000000           1  \n",
       "160             23.875000          0.000000           8  \n",
       "161             23.970000          0.000000          32  \n",
       "162             23.883422          3.763957         235  \n",
       "\n",
       "[163 rows x 6 columns]"
      ]
     },
     "execution_count": 74,
     "metadata": {},
     "output_type": "execute_result"
    }
   ],
   "source": [
    "pdf_cubo\n"
   ]
  },
  {
   "cell_type": "code",
   "execution_count": 75,
   "id": "4748e042",
   "metadata": {},
   "outputs": [
    {
     "data": {
      "image/png": "[encoded data removed]",
      "text/plain": [
       "<Figure size 2500x600 with 1 Axes>"
      ]
     },
     "metadata": {},
     "output_type": "display_data"
    }
   ],
   "source": [
    "\n",
    "pdf_cubo = df_cubo1.toPandas()\n",
    "pdf_cubo = pdf_cubo.dropna()\n",
    "pdf_cubo=pdf_cubo.sort_values(by=\"time\",ignore_index=True)\n",
    "pdf_cubo=pdf_cubo.iloc[:-1]\n",
    "# Graficar las tendencias de PM 2.5 y PM 10\n",
    "plt.figure(figsize=(25, 6))\n",
    "\n",
    "plt.plot(pdf_cubo[\"time\"], pdf_cubo[\"Promedio_PM_2.5\"], label=\"PM 2.5\", color='green')\n",
    "plt.plot(pdf_cubo[\"time\"], pdf_cubo[\"Promedio_PM_10\"], label=\"PM 10\", color='blue')\n",
    "\n",
    "# Títulos y etiquetas\n",
    "plt.title('Tendencia de Contaminación por PM 2.5 y PM 10 a lo Largo del Tiempo', fontsize=15)\n",
    "plt.xlabel('Fecha', fontsize=12)\n",
    "plt.ylabel('Concentración Promedio', fontsize=12)\n",
    "\n",
    "# Estilizar la gráfica\n",
    "plt.legend()\n",
    "plt.grid(True)\n",
    "\n",
    "# Formato del eje X\n",
    "\n",
    "# Reducir la cantidad de ticks en el eje X\n",
    "plt.gca().xaxis.set_major_locator(plt.MaxNLocator(10))  \n",
    "plt.xticks(rotation=45)\n",
    "\n",
    "# Mostrar la gráfica\n",
    " \n",
    "plt.show()\n"
   ]
  },
  {
   "cell_type": "code",
   "execution_count": 76,
   "id": "543401f3",
   "metadata": {},
   "outputs": [
    {
     "name": "stdout",
     "output_type": "stream",
     "text": [
      "+-------------------+-----+\n",
      "|               time|count|\n",
      "+-------------------+-----+\n",
      "|1969-12-31 19:00:16|   32|\n",
      "|1969-12-31 19:00:57|   15|\n",
      "|1969-12-31 19:01:01|    8|\n",
      "|1969-12-31 19:00:20|    8|\n",
      "|1969-12-31 19:02:21|    5|\n",
      "|2106-02-05 18:28:15|    4|\n",
      "|1969-12-31 19:00:47|    2|\n",
      "|1969-12-31 19:01:53|    2|\n",
      "|1969-12-31 19:01:42|    2|\n",
      "|1969-12-31 19:00:43|    2|\n",
      "|1969-12-31 19:01:20|    2|\n",
      "|1969-12-31 19:01:24|    2|\n",
      "|1969-12-31 19:01:08|    2|\n",
      "|1969-12-31 19:07:46|    1|\n",
      "|2024-09-05 03:31:52|    1|\n",
      "|2024-09-05 03:42:34|    1|\n",
      "|2024-09-05 03:36:30|    1|\n",
      "|2024-09-05 03:32:08|    1|\n",
      "|2024-09-05 03:39:08|    1|\n",
      "|2024-09-05 03:42:22|    1|\n",
      "+-------------------+-----+\n",
      "only showing top 20 rows\n",
      "\n"
     ]
    }
   ],
   "source": [
    "# Agrupar por fecha y hora, contar la frecuencia de valores repetidos \n",
    "df_unido.groupBy(\"time\").count().orderBy(\"count\", ascending=False).show()"
   ]
  },
  {
   "cell_type": "code",
   "execution_count": 78,
   "id": "aedcf234",
   "metadata": {},
   "outputs": [
    {
     "name": "stdout",
     "output_type": "stream",
     "text": [
      "+-------------------+-----------------+\n",
      "|               time|diferencia_tiempo|\n",
      "+-------------------+-----------------+\n",
      "|               NULL|             NULL|\n",
      "|1969-12-31 19:00:16|             NULL|\n",
      "|1969-12-31 19:00:20|                4|\n",
      "|1969-12-31 19:00:27|                7|\n",
      "|1969-12-31 19:00:30|                3|\n",
      "|1969-12-31 19:00:43|               13|\n",
      "|1969-12-31 19:00:47|                4|\n",
      "|1969-12-31 19:00:57|               10|\n",
      "|1969-12-31 19:01:01|                4|\n",
      "|1969-12-31 19:01:04|                3|\n",
      "|1969-12-31 19:01:08|                4|\n",
      "|1969-12-31 19:01:12|                4|\n",
      "|1969-12-31 19:01:20|                8|\n",
      "|1969-12-31 19:01:23|                3|\n",
      "|1969-12-31 19:01:24|                1|\n",
      "|1969-12-31 19:01:28|                4|\n",
      "|1969-12-31 19:01:41|               13|\n",
      "|1969-12-31 19:01:42|                1|\n",
      "|1969-12-31 19:01:44|                2|\n",
      "|1969-12-31 19:01:53|                9|\n",
      "+-------------------+-----------------+\n",
      "only showing top 20 rows\n",
      "\n"
     ]
    }
   ],
   "source": [
    "\n",
    "from pyspark.sql.functions import unix_timestamp, col\n",
    "from pyspark.sql.window import Window\n",
    "\n",
    "\n",
    "# Definir una ventana para calcular diferencias\n",
    "window_spec = Window.orderBy(\"timestamp\")\n",
    "# Convertir la columna de fecha a formato timestamp\n",
    "df_C = df_cubo2.withColumn(\"timestamp\", unix_timestamp(col(\"time\"), \"yyyy-MM-dd HH:mm:ss\"))\n",
    "\n",
    "# Calculcar la diferencia de tiempo\n",
    "df = df_C.withColumn(\n",
    "    \"diferencia_tiempo\",\n",
    "    col(\"timestamp\") - lag(col(\"timestamp\"),1).over(window_spec)\n",
    ")\n",
    "\n",
    "# Seleccionar columnas relevantes y mostrar\n",
    "df.select(\"time\", \"diferencia_tiempo\").show()"
   ]
  },
  {
   "cell_type": "code",
   "execution_count": null,
   "id": "926da762",
   "metadata": {},
   "outputs": [],
   "source": [
    "df_unido.show()"
   ]
  },
  {
   "cell_type": "code",
   "execution_count": 89,
   "id": "e5b973d2",
   "metadata": {},
   "outputs": [],
   "source": [
    "df_avenidas=df_unido.groupby('Latitude','Longitude','Altitude').agg(\n",
    "  avg(\"PM_2_5\").alias(\"Promedio_PM_25\"),\n",
    "  avg(\"PM 10\").alias(\"Promedio_PM_10\")\n",
    "    ).orderBy('Promedio_PM_10',ascending=False)"
   ]
  },
  {
   "cell_type": "code",
   "execution_count": 90,
   "id": "8fcfce09",
   "metadata": {},
   "outputs": [
    {
     "name": "stdout",
     "output_type": "stream",
     "text": [
      "+---------+----------+--------+--------------+--------------+\n",
      "| Latitude| Longitude|Altitude|Promedio_PM_25|Promedio_PM_10|\n",
      "+---------+----------+--------+--------------+--------------+\n",
      "|19.511336|-99.126433|  2242.1|         28.51|         30.81|\n",
      "|19.511309|-99.126431|  2244.4|         27.77|          30.0|\n",
      "|19.511336|-99.126433|  2242.2|         28.19|          30.0|\n",
      "|19.511329|-99.126442|  2242.4|         28.11|          30.0|\n",
      "|19.511311|-99.126433|  2244.8|         27.33|          29.0|\n",
      "|19.511309|-99.126427|  2243.8|         27.09|          29.0|\n",
      "|19.511259|-99.126469|  2249.8|         25.27|          28.0|\n",
      "|   2243.8|       0.0|   327.7|         26.65|          28.0|\n",
      "|19.511274| -99.12647|     0.0|         25.46|          28.0|\n",
      "|19.511296|-99.126422|  2243.5|         26.27|          28.0|\n",
      "|19.511283|-99.126474|  2250.1|         25.15|          28.0|\n",
      "|19.511178|-99.126491|  2254.7|         25.19|          27.0|\n",
      "|19.511006| -99.12579|     0.0|         26.06|          27.0|\n",
      "|19.511285|-99.126465|  2247.7|         25.07|          27.0|\n",
      "|19.511275|-99.126477|  2247.6|         25.15|          27.0|\n",
      "|19.511045|-99.125612|  2260.6|          26.1|          27.0|\n",
      "|19.511102|-99.126659|  2251.3|         25.15|          27.0|\n",
      "|   2247.6|       0.0|   298.8|         25.21|          27.0|\n",
      "|19.511259| -99.12647|  2249.4|         24.97|          27.0|\n",
      "|19.511069|-99.126302|  2247.4|         25.71|          27.0|\n",
      "+---------+----------+--------+--------------+--------------+\n",
      "only showing top 20 rows\n",
      "\n"
     ]
    }
   ],
   "source": [
    "df_avenidas.show()"
   ]
  },
  {
   "cell_type": "code",
   "execution_count": 91,
   "id": "642aedbc",
   "metadata": {},
   "outputs": [],
   "source": [
    "df_av=df_avenidas.toPandas()"
   ]
  },
  {
   "cell_type": "code",
   "execution_count": 92,
   "id": "220420c1",
   "metadata": {},
   "outputs": [],
   "source": [
    "df_av=df_av.dropna()"
   ]
  },
  {
   "cell_type": "code",
   "execution_count": 101,
   "id": "e108f906",
   "metadata": {},
   "outputs": [
    {
     "data": {
      "text/html": [
       "<div style=\"width:100%;\"><div style=\"position:relative;width:100%;height:0;padding-bottom:60%;\"><span style=\"color:#565656\">Make this Notebook Trusted to load map: File -> Trust Notebook</span><iframe srcdoc=\"&lt;!DOCTYPE html&gt;\n",
       "&lt;html&gt;\n",
       "&lt;head&gt;\n",
       "    \n",
       "    &lt;meta http-equiv=&quot;content-type&quot; content=&quot;text/html; charset=UTF-8&quot; /&gt;\n",
       "    \n",
       "        &lt;script&gt;\n",
       "            L_NO_TOUCH = false;\n",
       "            L_DISABLE_3D = false;\n",
       "        &lt;/script&gt;\n",
       "    \n",
       "    &lt;style&gt;html, body {width: 100%;height: 100%;margin: 0;padding: 0;}&lt;/style&gt;\n",
       "    &lt;style&gt;#map {position:absolute;top:0;bottom:0;right:0;left:0;}&lt;/style&gt;\n",
       "    &lt;script src=&quot;https://cdn.jsdelivr.net/npm/leaflet@1.9.3/dist/leaflet.js&quot;&gt;&lt;/script&gt;\n",
       "    &lt;script src=&quot;https://code.jquery.com/jquery-3.7.1.min.js&quot;&gt;&lt;/script&gt;\n",
       "    &lt;script src=&quot;https://cdn.jsdelivr.net/npm/bootstrap@5.2.2/dist/js/bootstrap.bundle.min.js&quot;&gt;&lt;/script&gt;\n",
       "    &lt;script src=&quot;https://cdnjs.cloudflare.com/ajax/libs/Leaflet.awesome-markers/2.0.2/leaflet.awesome-markers.js&quot;&gt;&lt;/script&gt;\n",
       "    &lt;link rel=&quot;stylesheet&quot; href=&quot;https://cdn.jsdelivr.net/npm/leaflet@1.9.3/dist/leaflet.css&quot;/&gt;\n",
       "    &lt;link rel=&quot;stylesheet&quot; href=&quot;https://cdn.jsdelivr.net/npm/bootstrap@5.2.2/dist/css/bootstrap.min.css&quot;/&gt;\n",
       "    &lt;link rel=&quot;stylesheet&quot; href=&quot;https://netdna.bootstrapcdn.com/bootstrap/3.0.0/css/bootstrap-glyphicons.css&quot;/&gt;\n",
       "    &lt;link rel=&quot;stylesheet&quot; href=&quot;https://cdn.jsdelivr.net/npm/@fortawesome/fontawesome-free@6.2.0/css/all.min.css&quot;/&gt;\n",
       "    &lt;link rel=&quot;stylesheet&quot; href=&quot;https://cdnjs.cloudflare.com/ajax/libs/Leaflet.awesome-markers/2.0.2/leaflet.awesome-markers.css&quot;/&gt;\n",
       "    &lt;link rel=&quot;stylesheet&quot; href=&quot;https://cdn.jsdelivr.net/gh/python-visualization/folium/folium/templates/leaflet.awesome.rotate.min.css&quot;/&gt;\n",
       "    \n",
       "            &lt;meta name=&quot;viewport&quot; content=&quot;width=device-width,\n",
       "                initial-scale=1.0, maximum-scale=1.0, user-scalable=no&quot; /&gt;\n",
       "            &lt;style&gt;\n",
       "                #map_88a049c34752d52555e964e379ae5195 {\n",
       "                    position: relative;\n",
       "                    width: 100.0%;\n",
       "                    height: 100.0%;\n",
       "                    left: 0.0%;\n",
       "                    top: 0.0%;\n",
       "                }\n",
       "                .leaflet-container { font-size: 1rem; }\n",
       "            &lt;/style&gt;\n",
       "        \n",
       "    &lt;script src=&quot;https://cdn.jsdelivr.net/gh/python-visualization/folium@main/folium/templates/leaflet_heat.min.js&quot;&gt;&lt;/script&gt;\n",
       "&lt;/head&gt;\n",
       "&lt;body&gt;\n",
       "    \n",
       "    \n",
       "            &lt;div class=&quot;folium-map&quot; id=&quot;map_88a049c34752d52555e964e379ae5195&quot; &gt;&lt;/div&gt;\n",
       "        \n",
       "&lt;/body&gt;\n",
       "&lt;script&gt;\n",
       "    \n",
       "    \n",
       "            var map_88a049c34752d52555e964e379ae5195 = L.map(\n",
       "                &quot;map_88a049c34752d52555e964e379ae5195&quot;,\n",
       "                {\n",
       "                    center: [19.511336, -99.126433],\n",
       "                    crs: L.CRS.EPSG3857,\n",
       "                    zoom: 20,\n",
       "                    zoomControl: true,\n",
       "                    preferCanvas: false,\n",
       "                }\n",
       "            );\n",
       "\n",
       "            \n",
       "\n",
       "        \n",
       "    \n",
       "            var tile_layer_c858735b4bbb342ef3a4ea653d55d07f = L.tileLayer(\n",
       "                &quot;https://tile.openstreetmap.org/{z}/{x}/{y}.png&quot;,\n",
       "                {&quot;attribution&quot;: &quot;\\u0026copy; \\u003ca href=\\&quot;https://www.openstreetmap.org/copyright\\&quot;\\u003eOpenStreetMap\\u003c/a\\u003e contributors&quot;, &quot;detectRetina&quot;: false, &quot;maxNativeZoom&quot;: 19, &quot;maxZoom&quot;: 19, &quot;minZoom&quot;: 0, &quot;noWrap&quot;: false, &quot;opacity&quot;: 1, &quot;subdomains&quot;: &quot;abc&quot;, &quot;tms&quot;: false}\n",
       "            );\n",
       "        \n",
       "    \n",
       "            tile_layer_c858735b4bbb342ef3a4ea653d55d07f.addTo(map_88a049c34752d52555e964e379ae5195);\n",
       "        \n",
       "    \n",
       "            var heat_map_da3b08596278a2be1452a9dd7a7d6656 = L.heatLayer(\n",
       "                [[19.511336, -99.126433, 30.81], [19.511329, -99.126442, 30.0], [19.511309, -99.126431, 30.0], [19.511336, -99.126433, 30.0], [19.511311, -99.126433, 29.0], [19.511309, -99.126427, 29.0], [2243.8, 0.0, 28.0], [19.511259, -99.126469, 28.0], [19.511274, -99.12647, 28.0], [19.511296, -99.126422, 28.0], [19.511283, -99.126474, 28.0], [19.511275, -99.126477, 27.0], [2247.6, 0.0, 27.0], [19.511006, -99.12579, 27.0], [19.511285, -99.126465, 27.0], [19.511102, -99.126659, 27.0], [19.511178, -99.126491, 27.0], [19.511259, -99.12647, 27.0], [19.511069, -99.126302, 27.0], [2250.8, 0.0, 27.0], [19.511045, -99.125612, 27.0], [19.511283, -99.12646, 27.0], [19.511126, -99.126584, 27.0], [-99.126472, 2254.2, 26.0], [19.51123, -99.126954, 26.0], [19.511268, -99.126472, 26.0], [19.511279, -99.126475, 26.0], [19.511288, -99.126464, 26.0], [19.511282, -99.126472, 26.0], [19.511307, -99.126531, 26.0], [19.511352, -99.12662, 26.0], [19.511288, -99.126463, 26.0], [19.511131, -99.126817, 26.0], [19.511279, -99.127006, 26.0], [19.511138, -99.12683, 26.0], [19.511479, -99.126739, 25.0], [19.511046, -99.126203, 25.0], [19.51135, -99.127069, 25.0], [19.511427, -99.126654, 25.0], [19.511556, -99.126887, 25.0], [19.510998, -99.125733, 25.0], [19.511275, -99.126471, 25.0], [19.511161, -99.126383, 25.0], [19.511357, -99.127071, 25.0], [19.511054, -99.126236, 24.125], [19.511094, -99.126188, 24.0], [19.511302, -99.126451, 24.0], [19.511626, -99.126917, 24.0], [19.511314, -99.126466, 24.0], [19.51131, -99.12645, 24.0], [19.511308, -99.126467, 24.0], [19.511158, -99.126386, 24.0], [19.51131, -99.126449, 24.0], [19.511453, -99.127167, 24.0], [19.511295, -99.126452, 23.0], [19.511238, -99.126438, 23.0], [19.51163, 0.0, 23.0], [19.511302, -99.12647, 23.0], [19.511633, -99.127054, 23.0], [2248.3, 0.0, 23.0], [19.511649, -99.127187, 23.0], [19.511049, -99.126226, 23.0], [19.511307, -99.126466, 23.0], [19.511055, -99.126219, 23.0], [19.511307, -99.12646, 23.0], [19.511051, 0.0, 23.0], [19.511055, -99.126235, 23.0], [19.511057, -99.126215, 23.0], [19.511307, -99.126467, 22.75], [19.511528, -99.127277, 22.0], [19.511304, -99.126468, 22.0], [19.511302, -99.126468, 22.0], [19.511594, -99.127253, 22.0], [19.511518, -99.127264, 22.0], [19.51129, 0.0, 20.0], [19.511311, -99.126468, 19.5], [19.51131, -99.126467, 19.0], [19.511309, -99.126467, 19.0], [0.0, 0.0, 14.959142857142856], [20240711235020.0, 0.0, 11.01], [2224.4, 0.0, 11.01], [19.503899, -99.146882, 10.34], [19.5039, 45.0, 10.2], [19.5039, -99.146957, 10.2], [2242.9, 0.0, 10.045], [19.503932, -99.146983, 10.0], [19.5039, -99.146956, 9.94], [19.503899, -99.14695, 9.84], [19.503899, -99.146955, 9.73], [19.503898, -99.14695, 9.07], [19.503898, -99.146955, 8.78], [19.503913, -99.146967, 8.69], [19.503765, -99.146854, 8.67], [19.503916, -99.146969, 8.665], [19.503919, 2241.0, 8.66], [19.503908, -99.146962, 8.635000000000002], [19.503916, -99.146969, 8.59], [19.504257, -99.146748, 8.4], [19.503917, -99.146969, 8.36], [19.503927, -99.146976, 8.295], [19.50393, -99.146979, 8.21], [20240711234954.996, 19.503916, 8.146666666666667], [19.50393, 0.0, 8.09], [19.503913, -99.14696, 8.06], [19.503911, -99.14696, 8.05], [19.50391, 0.0, 8.05], [19.503928, -99.146978, 7.94], [19.503907, -99.146961, 7.85], [20240711235100.0, 19.503915, 7.68], [19.50392, 0.0, 7.68], [19.503918, -99.14697, 7.58], [19.503913, -99.146966, 7.55], [2240.9, 0.0, 7.31], [19.503926, -99.146994, 6.102000000000001], [19.503917, 0.0, 6.102000000000001], [20240711235120.0, 0.0, 3.5], [20240711235058.0, 19.503915, 3.25], [-99.146978, 2240.1, 3.25], [202404.0, 2223.8, 3.24], [20240711234957.0, 19.503916, 3.035]],\n",
       "                {&quot;blur&quot;: 10, &quot;maxZoom&quot;: 1, &quot;minOpacity&quot;: 0.5, &quot;radius&quot;: 15}\n",
       "            );\n",
       "        \n",
       "    \n",
       "            heat_map_da3b08596278a2be1452a9dd7a7d6656.addTo(map_88a049c34752d52555e964e379ae5195);\n",
       "        \n",
       "&lt;/script&gt;\n",
       "&lt;/html&gt;\" style=\"position:absolute;width:100%;height:100%;left:0;top:0;border:none !important;\" allowfullscreen webkitallowfullscreen mozallowfullscreen></iframe></div></div>"
      ],
      "text/plain": [
       "<folium.folium.Map at 0x220d0ce4b90>"
      ]
     },
     "execution_count": 101,
     "metadata": {},
     "output_type": "execute_result"
    }
   ],
   "source": [
    "import folium\n",
    "from folium.plugins import HeatMap\n",
    "import folium\n",
    "from folium.plugins import HeatMap\n",
    "\n",
    "# Filtrar valores válidos (sin nulos)\n",
    "df_av = df_av.dropna(subset=['Latitude', 'Longitude', 'Promedio_PM_10'])\n",
    "\n",
    "# Crear una lista de puntos con latitud, longitud y el peso de contaminación\n",
    "contaminacion = df_av[['Latitude', 'Longitude', 'Promedio_PM_10']].values.tolist()\n",
    "\n",
    "# Crear un mapa base centrado en Ciudad de México\n",
    "mapa_calor = folium.Map(location=[19.511336, -99.126433], zoom_start=20)\n",
    "\n",
    "# Añadir capa de mapa de calor\n",
    "HeatMap(contaminacion, radius=15, blur=10, max_zoom=1).add_to(mapa_calor)\n",
    "\n",
    "# Guardar el mapa como archivo HTML (opcional)\n",
    "#mapa_calor.save(\"mapa_calor.html\")\n",
    "\n",
    "# Mostrar el mapa\n",
    "mapa_calor\n"
   ]
  },
  {
   "cell_type": "code",
   "execution_count": 102,
   "id": "3bdb3f0b",
   "metadata": {},
   "outputs": [],
   "source": [
    "mapa_calor.save(\"mapa_calor_f.html\")"
   ]
  },
  {
   "cell_type": "code",
   "execution_count": 95,
   "id": "d61d78ab",
   "metadata": {},
   "outputs": [
    {
     "data": {
      "text/html": [
       "<div>\n",
       "<style scoped>\n",
       "    .dataframe tbody tr th:only-of-type {\n",
       "        vertical-align: middle;\n",
       "    }\n",
       "\n",
       "    .dataframe tbody tr th {\n",
       "        vertical-align: top;\n",
       "    }\n",
       "\n",
       "    .dataframe thead th {\n",
       "        text-align: right;\n",
       "    }\n",
       "</style>\n",
       "<table border=\"1\" class=\"dataframe\">\n",
       "  <thead>\n",
       "    <tr style=\"text-align: right;\">\n",
       "      <th></th>\n",
       "      <th>Latitude</th>\n",
       "      <th>Longitude</th>\n",
       "      <th>Altitude</th>\n",
       "      <th>Promedio_PM_25</th>\n",
       "      <th>Promedio_PM_10</th>\n",
       "    </tr>\n",
       "  </thead>\n",
       "  <tbody>\n",
       "    <tr>\n",
       "      <th>0</th>\n",
       "      <td>1.951134e+01</td>\n",
       "      <td>-99.126433</td>\n",
       "      <td>2242.10</td>\n",
       "      <td>28.510</td>\n",
       "      <td>30.810</td>\n",
       "    </tr>\n",
       "    <tr>\n",
       "      <th>1</th>\n",
       "      <td>1.951133e+01</td>\n",
       "      <td>-99.126442</td>\n",
       "      <td>2242.40</td>\n",
       "      <td>28.110</td>\n",
       "      <td>30.000</td>\n",
       "    </tr>\n",
       "    <tr>\n",
       "      <th>2</th>\n",
       "      <td>1.951131e+01</td>\n",
       "      <td>-99.126431</td>\n",
       "      <td>2244.40</td>\n",
       "      <td>27.770</td>\n",
       "      <td>30.000</td>\n",
       "    </tr>\n",
       "    <tr>\n",
       "      <th>3</th>\n",
       "      <td>1.951134e+01</td>\n",
       "      <td>-99.126433</td>\n",
       "      <td>2242.20</td>\n",
       "      <td>28.190</td>\n",
       "      <td>30.000</td>\n",
       "    </tr>\n",
       "    <tr>\n",
       "      <th>4</th>\n",
       "      <td>1.951131e+01</td>\n",
       "      <td>-99.126433</td>\n",
       "      <td>2244.80</td>\n",
       "      <td>27.330</td>\n",
       "      <td>29.000</td>\n",
       "    </tr>\n",
       "    <tr>\n",
       "      <th>...</th>\n",
       "      <td>...</td>\n",
       "      <td>...</td>\n",
       "      <td>...</td>\n",
       "      <td>...</td>\n",
       "      <td>...</td>\n",
       "    </tr>\n",
       "    <tr>\n",
       "      <th>115</th>\n",
       "      <td>2.024071e+13</td>\n",
       "      <td>0.000000</td>\n",
       "      <td>0.00</td>\n",
       "      <td>3.500</td>\n",
       "      <td>3.500</td>\n",
       "    </tr>\n",
       "    <tr>\n",
       "      <th>116</th>\n",
       "      <td>2.024071e+13</td>\n",
       "      <td>19.503915</td>\n",
       "      <td>-99.15</td>\n",
       "      <td>3.250</td>\n",
       "      <td>3.250</td>\n",
       "    </tr>\n",
       "    <tr>\n",
       "      <th>117</th>\n",
       "      <td>-9.914698e+01</td>\n",
       "      <td>2240.100000</td>\n",
       "      <td>0.00</td>\n",
       "      <td>3.250</td>\n",
       "      <td>3.250</td>\n",
       "    </tr>\n",
       "    <tr>\n",
       "      <th>118</th>\n",
       "      <td>2.024040e+05</td>\n",
       "      <td>2223.800000</td>\n",
       "      <td>0.00</td>\n",
       "      <td>3.240</td>\n",
       "      <td>3.240</td>\n",
       "    </tr>\n",
       "    <tr>\n",
       "      <th>119</th>\n",
       "      <td>2.024071e+13</td>\n",
       "      <td>19.503916</td>\n",
       "      <td>-99.15</td>\n",
       "      <td>3.035</td>\n",
       "      <td>3.035</td>\n",
       "    </tr>\n",
       "  </tbody>\n",
       "</table>\n",
       "<p>120 rows × 5 columns</p>\n",
       "</div>"
      ],
      "text/plain": [
       "         Latitude    Longitude  Altitude  Promedio_PM_25  Promedio_PM_10\n",
       "0    1.951134e+01   -99.126433   2242.10          28.510          30.810\n",
       "1    1.951133e+01   -99.126442   2242.40          28.110          30.000\n",
       "2    1.951131e+01   -99.126431   2244.40          27.770          30.000\n",
       "3    1.951134e+01   -99.126433   2242.20          28.190          30.000\n",
       "4    1.951131e+01   -99.126433   2244.80          27.330          29.000\n",
       "..            ...          ...       ...             ...             ...\n",
       "115  2.024071e+13     0.000000      0.00           3.500           3.500\n",
       "116  2.024071e+13    19.503915    -99.15           3.250           3.250\n",
       "117 -9.914698e+01  2240.100000      0.00           3.250           3.250\n",
       "118  2.024040e+05  2223.800000      0.00           3.240           3.240\n",
       "119  2.024071e+13    19.503916    -99.15           3.035           3.035\n",
       "\n",
       "[120 rows x 5 columns]"
      ]
     },
     "execution_count": 95,
     "metadata": {},
     "output_type": "execute_result"
    }
   ],
   "source": [
    "df_av"
   ]
  }
 ],
 "metadata": {
  "kernelspec": {
   "display_name": "Python 3 (ipykernel)",
   "language": "python",
   "name": "python3"
  },
  "language_info": {
   "codemirror_mode": {
    "name": "ipython",
    "version": 3
   },
   "file_extension": ".py",
   "mimetype": "text/x-python",
   "name": "python",
   "nbconvert_exporter": "python",
   "pygments_lexer": "ipython3",
   "version": "3.11.7"
  }
 },
 "nbformat": 4,
 "nbformat_minor": 5
}
